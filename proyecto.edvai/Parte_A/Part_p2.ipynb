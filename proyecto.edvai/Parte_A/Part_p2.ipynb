{
 "cells": [
  {
   "cell_type": "code",
   "execution_count": 7,
   "metadata": {},
   "outputs": [],
   "source": [
    "import pandas as pd\n",
    "data=pd.read_csv(\"customer_dataset.csv\", sep = \",\")"
   ]
  },
  {
   "cell_type": "code",
   "execution_count": 8,
   "metadata": {},
   "outputs": [],
   "source": [
    "from funpymodeling.exploratory import freq_tbl, status, profiling_num"
   ]
  },
  {
   "cell_type": "code",
   "execution_count": 9,
   "metadata": {},
   "outputs": [
    {
     "data": {
      "text/html": [
       "<div>\n",
       "<style scoped>\n",
       "    .dataframe tbody tr th:only-of-type {\n",
       "        vertical-align: middle;\n",
       "    }\n",
       "\n",
       "    .dataframe tbody tr th {\n",
       "        vertical-align: top;\n",
       "    }\n",
       "\n",
       "    .dataframe thead th {\n",
       "        text-align: right;\n",
       "    }\n",
       "</style>\n",
       "<table border=\"1\" class=\"dataframe\">\n",
       "  <thead>\n",
       "    <tr style=\"text-align: right;\">\n",
       "      <th></th>\n",
       "      <th>orderAmount</th>\n",
       "      <th>orderState</th>\n",
       "      <th>paymentMethodRegistrationFailure</th>\n",
       "      <th>paymentMethodType</th>\n",
       "      <th>paymentMethodProvider</th>\n",
       "      <th>paymentMethodIssuer</th>\n",
       "      <th>transactionAmount</th>\n",
       "      <th>transactionFailed</th>\n",
       "      <th>fraudulent</th>\n",
       "      <th>emailDomain</th>\n",
       "      <th>emailProvider</th>\n",
       "      <th>customerIPAddressSimplified</th>\n",
       "      <th>sameCity</th>\n",
       "    </tr>\n",
       "  </thead>\n",
       "  <tbody>\n",
       "    <tr>\n",
       "      <th>0</th>\n",
       "      <td>18.0</td>\n",
       "      <td>pending</td>\n",
       "      <td>True</td>\n",
       "      <td>card</td>\n",
       "      <td>JCB 16 digit</td>\n",
       "      <td>Citizens First Banks</td>\n",
       "      <td>18</td>\n",
       "      <td>False</td>\n",
       "      <td>False</td>\n",
       "      <td>com</td>\n",
       "      <td>yahoo</td>\n",
       "      <td>only_letters</td>\n",
       "      <td>yes</td>\n",
       "    </tr>\n",
       "    <tr>\n",
       "      <th>1</th>\n",
       "      <td>26.0</td>\n",
       "      <td>fulfilled</td>\n",
       "      <td>True</td>\n",
       "      <td>bitcoin</td>\n",
       "      <td>VISA 16 digit</td>\n",
       "      <td>Solace Banks</td>\n",
       "      <td>26</td>\n",
       "      <td>False</td>\n",
       "      <td>True</td>\n",
       "      <td>com</td>\n",
       "      <td>yahoo</td>\n",
       "      <td>only_letters</td>\n",
       "      <td>no</td>\n",
       "    </tr>\n",
       "    <tr>\n",
       "      <th>2</th>\n",
       "      <td>45.0</td>\n",
       "      <td>fulfilled</td>\n",
       "      <td>False</td>\n",
       "      <td>card</td>\n",
       "      <td>VISA 16 digit</td>\n",
       "      <td>Vertex Bancorp</td>\n",
       "      <td>45</td>\n",
       "      <td>False</td>\n",
       "      <td>False</td>\n",
       "      <td>com</td>\n",
       "      <td>yahoo</td>\n",
       "      <td>digits_and_letters</td>\n",
       "      <td>no</td>\n",
       "    </tr>\n",
       "    <tr>\n",
       "      <th>3</th>\n",
       "      <td>23.0</td>\n",
       "      <td>fulfilled</td>\n",
       "      <td>False</td>\n",
       "      <td>card</td>\n",
       "      <td>Diners Club / Carte Blanche</td>\n",
       "      <td>His Majesty Bank Corp.</td>\n",
       "      <td>23</td>\n",
       "      <td>False</td>\n",
       "      <td>False</td>\n",
       "      <td>com</td>\n",
       "      <td>yahoo</td>\n",
       "      <td>digits_and_letters</td>\n",
       "      <td>no</td>\n",
       "    </tr>\n",
       "    <tr>\n",
       "      <th>4</th>\n",
       "      <td>43.0</td>\n",
       "      <td>fulfilled</td>\n",
       "      <td>False</td>\n",
       "      <td>card</td>\n",
       "      <td>Mastercard</td>\n",
       "      <td>Vertex Bancorp</td>\n",
       "      <td>43</td>\n",
       "      <td>True</td>\n",
       "      <td>True</td>\n",
       "      <td>com</td>\n",
       "      <td>other</td>\n",
       "      <td>only_letters</td>\n",
       "      <td>no</td>\n",
       "    </tr>\n",
       "    <tr>\n",
       "      <th>...</th>\n",
       "      <td>...</td>\n",
       "      <td>...</td>\n",
       "      <td>...</td>\n",
       "      <td>...</td>\n",
       "      <td>...</td>\n",
       "      <td>...</td>\n",
       "      <td>...</td>\n",
       "      <td>...</td>\n",
       "      <td>...</td>\n",
       "      <td>...</td>\n",
       "      <td>...</td>\n",
       "      <td>...</td>\n",
       "      <td>...</td>\n",
       "    </tr>\n",
       "    <tr>\n",
       "      <th>618</th>\n",
       "      <td>NaN</td>\n",
       "      <td>NaN</td>\n",
       "      <td>NaN</td>\n",
       "      <td>NaN</td>\n",
       "      <td>NaN</td>\n",
       "      <td>NaN</td>\n",
       "      <td>25</td>\n",
       "      <td>True</td>\n",
       "      <td>NaN</td>\n",
       "      <td>weird</td>\n",
       "      <td>weird</td>\n",
       "      <td>only_letters</td>\n",
       "      <td>unknown</td>\n",
       "    </tr>\n",
       "    <tr>\n",
       "      <th>619</th>\n",
       "      <td>NaN</td>\n",
       "      <td>NaN</td>\n",
       "      <td>NaN</td>\n",
       "      <td>NaN</td>\n",
       "      <td>NaN</td>\n",
       "      <td>NaN</td>\n",
       "      <td>25</td>\n",
       "      <td>True</td>\n",
       "      <td>NaN</td>\n",
       "      <td>weird</td>\n",
       "      <td>weird</td>\n",
       "      <td>only_letters</td>\n",
       "      <td>unknown</td>\n",
       "    </tr>\n",
       "    <tr>\n",
       "      <th>620</th>\n",
       "      <td>NaN</td>\n",
       "      <td>NaN</td>\n",
       "      <td>NaN</td>\n",
       "      <td>NaN</td>\n",
       "      <td>NaN</td>\n",
       "      <td>NaN</td>\n",
       "      <td>25</td>\n",
       "      <td>False</td>\n",
       "      <td>NaN</td>\n",
       "      <td>weird</td>\n",
       "      <td>weird</td>\n",
       "      <td>only_letters</td>\n",
       "      <td>unknown</td>\n",
       "    </tr>\n",
       "    <tr>\n",
       "      <th>621</th>\n",
       "      <td>NaN</td>\n",
       "      <td>NaN</td>\n",
       "      <td>NaN</td>\n",
       "      <td>NaN</td>\n",
       "      <td>NaN</td>\n",
       "      <td>NaN</td>\n",
       "      <td>19</td>\n",
       "      <td>False</td>\n",
       "      <td>NaN</td>\n",
       "      <td>weird</td>\n",
       "      <td>weird</td>\n",
       "      <td>only_letters</td>\n",
       "      <td>unknown</td>\n",
       "    </tr>\n",
       "    <tr>\n",
       "      <th>622</th>\n",
       "      <td>NaN</td>\n",
       "      <td>NaN</td>\n",
       "      <td>NaN</td>\n",
       "      <td>NaN</td>\n",
       "      <td>NaN</td>\n",
       "      <td>NaN</td>\n",
       "      <td>27</td>\n",
       "      <td>False</td>\n",
       "      <td>NaN</td>\n",
       "      <td>weird</td>\n",
       "      <td>weird</td>\n",
       "      <td>only_letters</td>\n",
       "      <td>unknown</td>\n",
       "    </tr>\n",
       "  </tbody>\n",
       "</table>\n",
       "<p>623 rows × 13 columns</p>\n",
       "</div>"
      ],
      "text/plain": [
       "     orderAmount orderState paymentMethodRegistrationFailure  \\\n",
       "0           18.0    pending                             True   \n",
       "1           26.0  fulfilled                             True   \n",
       "2           45.0  fulfilled                            False   \n",
       "3           23.0  fulfilled                            False   \n",
       "4           43.0  fulfilled                            False   \n",
       "..           ...        ...                              ...   \n",
       "618          NaN        NaN                              NaN   \n",
       "619          NaN        NaN                              NaN   \n",
       "620          NaN        NaN                              NaN   \n",
       "621          NaN        NaN                              NaN   \n",
       "622          NaN        NaN                              NaN   \n",
       "\n",
       "    paymentMethodType        paymentMethodProvider     paymentMethodIssuer  \\\n",
       "0                card                 JCB 16 digit    Citizens First Banks   \n",
       "1             bitcoin                VISA 16 digit            Solace Banks   \n",
       "2                card                VISA 16 digit          Vertex Bancorp   \n",
       "3                card  Diners Club / Carte Blanche  His Majesty Bank Corp.   \n",
       "4                card                   Mastercard          Vertex Bancorp   \n",
       "..                ...                          ...                     ...   \n",
       "618               NaN                          NaN                     NaN   \n",
       "619               NaN                          NaN                     NaN   \n",
       "620               NaN                          NaN                     NaN   \n",
       "621               NaN                          NaN                     NaN   \n",
       "622               NaN                          NaN                     NaN   \n",
       "\n",
       "     transactionAmount  transactionFailed fraudulent emailDomain  \\\n",
       "0                   18              False      False         com   \n",
       "1                   26              False       True         com   \n",
       "2                   45              False      False         com   \n",
       "3                   23              False      False         com   \n",
       "4                   43               True       True         com   \n",
       "..                 ...                ...        ...         ...   \n",
       "618                 25               True        NaN       weird   \n",
       "619                 25               True        NaN       weird   \n",
       "620                 25              False        NaN       weird   \n",
       "621                 19              False        NaN       weird   \n",
       "622                 27              False        NaN       weird   \n",
       "\n",
       "    emailProvider customerIPAddressSimplified sameCity  \n",
       "0           yahoo                only_letters      yes  \n",
       "1           yahoo                only_letters       no  \n",
       "2           yahoo          digits_and_letters       no  \n",
       "3           yahoo          digits_and_letters       no  \n",
       "4           other                only_letters       no  \n",
       "..            ...                         ...      ...  \n",
       "618         weird                only_letters  unknown  \n",
       "619         weird                only_letters  unknown  \n",
       "620         weird                only_letters  unknown  \n",
       "621         weird                only_letters  unknown  \n",
       "622         weird                only_letters  unknown  \n",
       "\n",
       "[623 rows x 13 columns]"
      ]
     },
     "execution_count": 9,
     "metadata": {},
     "output_type": "execute_result"
    }
   ],
   "source": [
    "data"
   ]
  },
  {
   "cell_type": "code",
   "execution_count": 10,
   "metadata": {},
   "outputs": [
    {
     "data": {
      "text/html": [
       "<div>\n",
       "<style scoped>\n",
       "    .dataframe tbody tr th:only-of-type {\n",
       "        vertical-align: middle;\n",
       "    }\n",
       "\n",
       "    .dataframe tbody tr th {\n",
       "        vertical-align: top;\n",
       "    }\n",
       "\n",
       "    .dataframe thead th {\n",
       "        text-align: right;\n",
       "    }\n",
       "</style>\n",
       "<table border=\"1\" class=\"dataframe\">\n",
       "  <thead>\n",
       "    <tr style=\"text-align: right;\">\n",
       "      <th></th>\n",
       "      <th>variable</th>\n",
       "      <th>q_nan</th>\n",
       "      <th>p_nan</th>\n",
       "      <th>q_zeros</th>\n",
       "      <th>p_zeros</th>\n",
       "      <th>unique</th>\n",
       "      <th>type</th>\n",
       "    </tr>\n",
       "  </thead>\n",
       "  <tbody>\n",
       "    <tr>\n",
       "      <th>0</th>\n",
       "      <td>orderAmount</td>\n",
       "      <td>145</td>\n",
       "      <td>0.232745</td>\n",
       "      <td>0</td>\n",
       "      <td>0.000000</td>\n",
       "      <td>67</td>\n",
       "      <td>float64</td>\n",
       "    </tr>\n",
       "    <tr>\n",
       "      <th>1</th>\n",
       "      <td>orderState</td>\n",
       "      <td>145</td>\n",
       "      <td>0.232745</td>\n",
       "      <td>0</td>\n",
       "      <td>0.000000</td>\n",
       "      <td>3</td>\n",
       "      <td>object</td>\n",
       "    </tr>\n",
       "    <tr>\n",
       "      <th>2</th>\n",
       "      <td>paymentMethodRegistrationFailure</td>\n",
       "      <td>281</td>\n",
       "      <td>0.451043</td>\n",
       "      <td>302</td>\n",
       "      <td>0.484751</td>\n",
       "      <td>2</td>\n",
       "      <td>object</td>\n",
       "    </tr>\n",
       "    <tr>\n",
       "      <th>3</th>\n",
       "      <td>paymentMethodType</td>\n",
       "      <td>281</td>\n",
       "      <td>0.451043</td>\n",
       "      <td>0</td>\n",
       "      <td>0.000000</td>\n",
       "      <td>4</td>\n",
       "      <td>object</td>\n",
       "    </tr>\n",
       "    <tr>\n",
       "      <th>4</th>\n",
       "      <td>paymentMethodProvider</td>\n",
       "      <td>281</td>\n",
       "      <td>0.451043</td>\n",
       "      <td>0</td>\n",
       "      <td>0.000000</td>\n",
       "      <td>10</td>\n",
       "      <td>object</td>\n",
       "    </tr>\n",
       "    <tr>\n",
       "      <th>5</th>\n",
       "      <td>paymentMethodIssuer</td>\n",
       "      <td>281</td>\n",
       "      <td>0.451043</td>\n",
       "      <td>0</td>\n",
       "      <td>0.000000</td>\n",
       "      <td>20</td>\n",
       "      <td>object</td>\n",
       "    </tr>\n",
       "    <tr>\n",
       "      <th>6</th>\n",
       "      <td>transactionAmount</td>\n",
       "      <td>0</td>\n",
       "      <td>0.000000</td>\n",
       "      <td>0</td>\n",
       "      <td>0.000000</td>\n",
       "      <td>67</td>\n",
       "      <td>int64</td>\n",
       "    </tr>\n",
       "    <tr>\n",
       "      <th>7</th>\n",
       "      <td>transactionFailed</td>\n",
       "      <td>0</td>\n",
       "      <td>0.000000</td>\n",
       "      <td>455</td>\n",
       "      <td>0.730337</td>\n",
       "      <td>2</td>\n",
       "      <td>bool</td>\n",
       "    </tr>\n",
       "    <tr>\n",
       "      <th>8</th>\n",
       "      <td>fraudulent</td>\n",
       "      <td>455</td>\n",
       "      <td>0.730337</td>\n",
       "      <td>107</td>\n",
       "      <td>0.171750</td>\n",
       "      <td>2</td>\n",
       "      <td>object</td>\n",
       "    </tr>\n",
       "    <tr>\n",
       "      <th>9</th>\n",
       "      <td>emailDomain</td>\n",
       "      <td>0</td>\n",
       "      <td>0.000000</td>\n",
       "      <td>0</td>\n",
       "      <td>0.000000</td>\n",
       "      <td>6</td>\n",
       "      <td>object</td>\n",
       "    </tr>\n",
       "    <tr>\n",
       "      <th>10</th>\n",
       "      <td>emailProvider</td>\n",
       "      <td>0</td>\n",
       "      <td>0.000000</td>\n",
       "      <td>0</td>\n",
       "      <td>0.000000</td>\n",
       "      <td>5</td>\n",
       "      <td>object</td>\n",
       "    </tr>\n",
       "    <tr>\n",
       "      <th>11</th>\n",
       "      <td>customerIPAddressSimplified</td>\n",
       "      <td>0</td>\n",
       "      <td>0.000000</td>\n",
       "      <td>0</td>\n",
       "      <td>0.000000</td>\n",
       "      <td>2</td>\n",
       "      <td>object</td>\n",
       "    </tr>\n",
       "    <tr>\n",
       "      <th>12</th>\n",
       "      <td>sameCity</td>\n",
       "      <td>0</td>\n",
       "      <td>0.000000</td>\n",
       "      <td>0</td>\n",
       "      <td>0.000000</td>\n",
       "      <td>3</td>\n",
       "      <td>object</td>\n",
       "    </tr>\n",
       "  </tbody>\n",
       "</table>\n",
       "</div>"
      ],
      "text/plain": [
       "                            variable  q_nan     p_nan  q_zeros   p_zeros  \\\n",
       "0                        orderAmount    145  0.232745        0  0.000000   \n",
       "1                         orderState    145  0.232745        0  0.000000   \n",
       "2   paymentMethodRegistrationFailure    281  0.451043      302  0.484751   \n",
       "3                  paymentMethodType    281  0.451043        0  0.000000   \n",
       "4              paymentMethodProvider    281  0.451043        0  0.000000   \n",
       "5                paymentMethodIssuer    281  0.451043        0  0.000000   \n",
       "6                  transactionAmount      0  0.000000        0  0.000000   \n",
       "7                  transactionFailed      0  0.000000      455  0.730337   \n",
       "8                         fraudulent    455  0.730337      107  0.171750   \n",
       "9                        emailDomain      0  0.000000        0  0.000000   \n",
       "10                     emailProvider      0  0.000000        0  0.000000   \n",
       "11       customerIPAddressSimplified      0  0.000000        0  0.000000   \n",
       "12                          sameCity      0  0.000000        0  0.000000   \n",
       "\n",
       "    unique     type  \n",
       "0       67  float64  \n",
       "1        3   object  \n",
       "2        2   object  \n",
       "3        4   object  \n",
       "4       10   object  \n",
       "5       20   object  \n",
       "6       67    int64  \n",
       "7        2     bool  \n",
       "8        2   object  \n",
       "9        6   object  \n",
       "10       5   object  \n",
       "11       2   object  \n",
       "12       3   object  "
      ]
     },
     "execution_count": 10,
     "metadata": {},
     "output_type": "execute_result"
    }
   ],
   "source": [
    "status(data)"
   ]
  },
  {
   "cell_type": "code",
   "execution_count": 11,
   "metadata": {},
   "outputs": [],
   "source": [
    "##data.dropna(subset=['fraudulent'], inplace=True)"
   ]
  },
  {
   "cell_type": "code",
   "execution_count": 12,
   "metadata": {},
   "outputs": [
    {
     "data": {
      "text/html": [
       "<div>\n",
       "<style scoped>\n",
       "    .dataframe tbody tr th:only-of-type {\n",
       "        vertical-align: middle;\n",
       "    }\n",
       "\n",
       "    .dataframe tbody tr th {\n",
       "        vertical-align: top;\n",
       "    }\n",
       "\n",
       "    .dataframe thead th {\n",
       "        text-align: right;\n",
       "    }\n",
       "</style>\n",
       "<table border=\"1\" class=\"dataframe\">\n",
       "  <thead>\n",
       "    <tr style=\"text-align: right;\">\n",
       "      <th></th>\n",
       "      <th>variable</th>\n",
       "      <th>q_nan</th>\n",
       "      <th>p_nan</th>\n",
       "      <th>q_zeros</th>\n",
       "      <th>p_zeros</th>\n",
       "      <th>unique</th>\n",
       "      <th>type</th>\n",
       "    </tr>\n",
       "  </thead>\n",
       "  <tbody>\n",
       "    <tr>\n",
       "      <th>0</th>\n",
       "      <td>orderAmount</td>\n",
       "      <td>145</td>\n",
       "      <td>0.232745</td>\n",
       "      <td>0</td>\n",
       "      <td>0.000000</td>\n",
       "      <td>67</td>\n",
       "      <td>float64</td>\n",
       "    </tr>\n",
       "    <tr>\n",
       "      <th>1</th>\n",
       "      <td>orderState</td>\n",
       "      <td>145</td>\n",
       "      <td>0.232745</td>\n",
       "      <td>0</td>\n",
       "      <td>0.000000</td>\n",
       "      <td>3</td>\n",
       "      <td>object</td>\n",
       "    </tr>\n",
       "    <tr>\n",
       "      <th>2</th>\n",
       "      <td>paymentMethodRegistrationFailure</td>\n",
       "      <td>281</td>\n",
       "      <td>0.451043</td>\n",
       "      <td>302</td>\n",
       "      <td>0.484751</td>\n",
       "      <td>2</td>\n",
       "      <td>object</td>\n",
       "    </tr>\n",
       "    <tr>\n",
       "      <th>3</th>\n",
       "      <td>paymentMethodType</td>\n",
       "      <td>281</td>\n",
       "      <td>0.451043</td>\n",
       "      <td>0</td>\n",
       "      <td>0.000000</td>\n",
       "      <td>4</td>\n",
       "      <td>object</td>\n",
       "    </tr>\n",
       "    <tr>\n",
       "      <th>4</th>\n",
       "      <td>paymentMethodProvider</td>\n",
       "      <td>281</td>\n",
       "      <td>0.451043</td>\n",
       "      <td>0</td>\n",
       "      <td>0.000000</td>\n",
       "      <td>10</td>\n",
       "      <td>object</td>\n",
       "    </tr>\n",
       "    <tr>\n",
       "      <th>5</th>\n",
       "      <td>paymentMethodIssuer</td>\n",
       "      <td>281</td>\n",
       "      <td>0.451043</td>\n",
       "      <td>0</td>\n",
       "      <td>0.000000</td>\n",
       "      <td>20</td>\n",
       "      <td>object</td>\n",
       "    </tr>\n",
       "    <tr>\n",
       "      <th>6</th>\n",
       "      <td>transactionAmount</td>\n",
       "      <td>0</td>\n",
       "      <td>0.000000</td>\n",
       "      <td>0</td>\n",
       "      <td>0.000000</td>\n",
       "      <td>67</td>\n",
       "      <td>int64</td>\n",
       "    </tr>\n",
       "    <tr>\n",
       "      <th>7</th>\n",
       "      <td>transactionFailed</td>\n",
       "      <td>0</td>\n",
       "      <td>0.000000</td>\n",
       "      <td>455</td>\n",
       "      <td>0.730337</td>\n",
       "      <td>2</td>\n",
       "      <td>bool</td>\n",
       "    </tr>\n",
       "    <tr>\n",
       "      <th>8</th>\n",
       "      <td>fraudulent</td>\n",
       "      <td>455</td>\n",
       "      <td>0.730337</td>\n",
       "      <td>107</td>\n",
       "      <td>0.171750</td>\n",
       "      <td>2</td>\n",
       "      <td>object</td>\n",
       "    </tr>\n",
       "    <tr>\n",
       "      <th>9</th>\n",
       "      <td>emailDomain</td>\n",
       "      <td>0</td>\n",
       "      <td>0.000000</td>\n",
       "      <td>0</td>\n",
       "      <td>0.000000</td>\n",
       "      <td>6</td>\n",
       "      <td>object</td>\n",
       "    </tr>\n",
       "    <tr>\n",
       "      <th>10</th>\n",
       "      <td>emailProvider</td>\n",
       "      <td>0</td>\n",
       "      <td>0.000000</td>\n",
       "      <td>0</td>\n",
       "      <td>0.000000</td>\n",
       "      <td>5</td>\n",
       "      <td>object</td>\n",
       "    </tr>\n",
       "    <tr>\n",
       "      <th>11</th>\n",
       "      <td>customerIPAddressSimplified</td>\n",
       "      <td>0</td>\n",
       "      <td>0.000000</td>\n",
       "      <td>0</td>\n",
       "      <td>0.000000</td>\n",
       "      <td>2</td>\n",
       "      <td>object</td>\n",
       "    </tr>\n",
       "    <tr>\n",
       "      <th>12</th>\n",
       "      <td>sameCity</td>\n",
       "      <td>0</td>\n",
       "      <td>0.000000</td>\n",
       "      <td>0</td>\n",
       "      <td>0.000000</td>\n",
       "      <td>3</td>\n",
       "      <td>object</td>\n",
       "    </tr>\n",
       "  </tbody>\n",
       "</table>\n",
       "</div>"
      ],
      "text/plain": [
       "                            variable  q_nan     p_nan  q_zeros   p_zeros  \\\n",
       "0                        orderAmount    145  0.232745        0  0.000000   \n",
       "1                         orderState    145  0.232745        0  0.000000   \n",
       "2   paymentMethodRegistrationFailure    281  0.451043      302  0.484751   \n",
       "3                  paymentMethodType    281  0.451043        0  0.000000   \n",
       "4              paymentMethodProvider    281  0.451043        0  0.000000   \n",
       "5                paymentMethodIssuer    281  0.451043        0  0.000000   \n",
       "6                  transactionAmount      0  0.000000        0  0.000000   \n",
       "7                  transactionFailed      0  0.000000      455  0.730337   \n",
       "8                         fraudulent    455  0.730337      107  0.171750   \n",
       "9                        emailDomain      0  0.000000        0  0.000000   \n",
       "10                     emailProvider      0  0.000000        0  0.000000   \n",
       "11       customerIPAddressSimplified      0  0.000000        0  0.000000   \n",
       "12                          sameCity      0  0.000000        0  0.000000   \n",
       "\n",
       "    unique     type  \n",
       "0       67  float64  \n",
       "1        3   object  \n",
       "2        2   object  \n",
       "3        4   object  \n",
       "4       10   object  \n",
       "5       20   object  \n",
       "6       67    int64  \n",
       "7        2     bool  \n",
       "8        2   object  \n",
       "9        6   object  \n",
       "10       5   object  \n",
       "11       2   object  \n",
       "12       3   object  "
      ]
     },
     "execution_count": 12,
     "metadata": {},
     "output_type": "execute_result"
    }
   ],
   "source": [
    "status(data)"
   ]
  },
  {
   "cell_type": "code",
   "execution_count": 13,
   "metadata": {},
   "outputs": [
    {
     "data": {
      "text/html": [
       "<div>\n",
       "<style scoped>\n",
       "    .dataframe tbody tr th:only-of-type {\n",
       "        vertical-align: middle;\n",
       "    }\n",
       "\n",
       "    .dataframe tbody tr th {\n",
       "        vertical-align: top;\n",
       "    }\n",
       "\n",
       "    .dataframe thead th {\n",
       "        text-align: right;\n",
       "    }\n",
       "</style>\n",
       "<table border=\"1\" class=\"dataframe\">\n",
       "  <thead>\n",
       "    <tr style=\"text-align: right;\">\n",
       "      <th></th>\n",
       "      <th>paymentMethodType</th>\n",
       "      <th>frequency</th>\n",
       "      <th>percentage</th>\n",
       "      <th>cumulative_perc</th>\n",
       "    </tr>\n",
       "  </thead>\n",
       "  <tbody>\n",
       "    <tr>\n",
       "      <th>0</th>\n",
       "      <td>card</td>\n",
       "      <td>242</td>\n",
       "      <td>0.388443</td>\n",
       "      <td>0.707602</td>\n",
       "    </tr>\n",
       "    <tr>\n",
       "      <th>1</th>\n",
       "      <td>apple pay</td>\n",
       "      <td>36</td>\n",
       "      <td>0.057785</td>\n",
       "      <td>0.812865</td>\n",
       "    </tr>\n",
       "    <tr>\n",
       "      <th>2</th>\n",
       "      <td>paypal</td>\n",
       "      <td>36</td>\n",
       "      <td>0.057785</td>\n",
       "      <td>0.918129</td>\n",
       "    </tr>\n",
       "    <tr>\n",
       "      <th>3</th>\n",
       "      <td>bitcoin</td>\n",
       "      <td>28</td>\n",
       "      <td>0.044944</td>\n",
       "      <td>1.000000</td>\n",
       "    </tr>\n",
       "  </tbody>\n",
       "</table>\n",
       "</div>"
      ],
      "text/plain": [
       "  paymentMethodType  frequency  percentage  cumulative_perc\n",
       "0              card        242    0.388443         0.707602\n",
       "1         apple pay         36    0.057785         0.812865\n",
       "2            paypal         36    0.057785         0.918129\n",
       "3           bitcoin         28    0.044944         1.000000"
      ]
     },
     "execution_count": 13,
     "metadata": {},
     "output_type": "execute_result"
    }
   ],
   "source": [
    "freq_tbl(data.paymentMethodType)"
   ]
  },
  {
   "cell_type": "code",
   "execution_count": 14,
   "metadata": {},
   "outputs": [
    {
     "data": {
      "text/html": [
       "<div>\n",
       "<style scoped>\n",
       "    .dataframe tbody tr th:only-of-type {\n",
       "        vertical-align: middle;\n",
       "    }\n",
       "\n",
       "    .dataframe tbody tr th {\n",
       "        vertical-align: top;\n",
       "    }\n",
       "\n",
       "    .dataframe thead th {\n",
       "        text-align: right;\n",
       "    }\n",
       "</style>\n",
       "<table border=\"1\" class=\"dataframe\">\n",
       "  <thead>\n",
       "    <tr style=\"text-align: right;\">\n",
       "      <th></th>\n",
       "      <th>fraudulent</th>\n",
       "      <th>frequency</th>\n",
       "      <th>percentage</th>\n",
       "      <th>cumulative_perc</th>\n",
       "    </tr>\n",
       "  </thead>\n",
       "  <tbody>\n",
       "    <tr>\n",
       "      <th>0</th>\n",
       "      <td>False</td>\n",
       "      <td>107</td>\n",
       "      <td>0.171750</td>\n",
       "      <td>0.636905</td>\n",
       "    </tr>\n",
       "    <tr>\n",
       "      <th>1</th>\n",
       "      <td>True</td>\n",
       "      <td>61</td>\n",
       "      <td>0.097913</td>\n",
       "      <td>1.000000</td>\n",
       "    </tr>\n",
       "  </tbody>\n",
       "</table>\n",
       "</div>"
      ],
      "text/plain": [
       "  fraudulent  frequency  percentage  cumulative_perc\n",
       "0      False        107    0.171750         0.636905\n",
       "1       True         61    0.097913         1.000000"
      ]
     },
     "execution_count": 14,
     "metadata": {},
     "output_type": "execute_result"
    }
   ],
   "source": [
    "freq_tbl(data.fraudulent)"
   ]
  },
  {
   "cell_type": "code",
   "execution_count": 15,
   "metadata": {},
   "outputs": [
    {
     "data": {
      "text/plain": [
       "3    bitcoin\n",
       "Name: paymentMethodType, dtype: object"
      ]
     },
     "execution_count": 15,
     "metadata": {},
     "output_type": "execute_result"
    }
   ],
   "source": [
    "t_coutry = freq_tbl(data.paymentMethodType)\n",
    "t_coutry.query('frequency<=30')['paymentMethodType']"
   ]
  },
  {
   "cell_type": "code",
   "execution_count": 16,
   "metadata": {},
   "outputs": [
    {
     "data": {
      "text/plain": [
       "0      False\n",
       "1       True\n",
       "2      False\n",
       "3      False\n",
       "4       True\n",
       "       ...  \n",
       "618      NaN\n",
       "619      NaN\n",
       "620      NaN\n",
       "621      NaN\n",
       "622      NaN\n",
       "Name: fraudulent, Length: 623, dtype: object"
      ]
     },
     "execution_count": 16,
     "metadata": {},
     "output_type": "execute_result"
    }
   ],
   "source": [
    "data['fraudulent'] "
   ]
  },
  {
   "cell_type": "code",
   "execution_count": 17,
   "metadata": {},
   "outputs": [
    {
     "data": {
      "text/html": [
       "<div>\n",
       "<style scoped>\n",
       "    .dataframe tbody tr th:only-of-type {\n",
       "        vertical-align: middle;\n",
       "    }\n",
       "\n",
       "    .dataframe tbody tr th {\n",
       "        vertical-align: top;\n",
       "    }\n",
       "\n",
       "    .dataframe thead th {\n",
       "        text-align: right;\n",
       "    }\n",
       "</style>\n",
       "<table border=\"1\" class=\"dataframe\">\n",
       "  <thead>\n",
       "    <tr style=\"text-align: right;\">\n",
       "      <th></th>\n",
       "      <th>count</th>\n",
       "      <th>mean</th>\n",
       "      <th>std</th>\n",
       "      <th>min</th>\n",
       "      <th>25%</th>\n",
       "      <th>50%</th>\n",
       "      <th>75%</th>\n",
       "      <th>max</th>\n",
       "    </tr>\n",
       "  </thead>\n",
       "  <tbody>\n",
       "    <tr>\n",
       "      <th>orderAmount</th>\n",
       "      <td>478.0</td>\n",
       "      <td>35.606695</td>\n",
       "      <td>21.667298</td>\n",
       "      <td>10.0</td>\n",
       "      <td>22.0</td>\n",
       "      <td>35.0</td>\n",
       "      <td>46.0</td>\n",
       "      <td>353.0</td>\n",
       "    </tr>\n",
       "    <tr>\n",
       "      <th>transactionAmount</th>\n",
       "      <td>623.0</td>\n",
       "      <td>34.598716</td>\n",
       "      <td>20.360247</td>\n",
       "      <td>10.0</td>\n",
       "      <td>21.0</td>\n",
       "      <td>34.0</td>\n",
       "      <td>45.0</td>\n",
       "      <td>353.0</td>\n",
       "    </tr>\n",
       "  </tbody>\n",
       "</table>\n",
       "</div>"
      ],
      "text/plain": [
       "                   count       mean        std   min   25%   50%   75%    max\n",
       "orderAmount        478.0  35.606695  21.667298  10.0  22.0  35.0  46.0  353.0\n",
       "transactionAmount  623.0  34.598716  20.360247  10.0  21.0  34.0  45.0  353.0"
      ]
     },
     "execution_count": 17,
     "metadata": {},
     "output_type": "execute_result"
    }
   ],
   "source": [
    "data.describe().T"
   ]
  },
  {
   "cell_type": "code",
   "execution_count": 18,
   "metadata": {},
   "outputs": [
    {
     "name": "stdout",
     "output_type": "stream",
     "text": [
      "transactionFailed\n",
      "False    455\n",
      "True     168\n",
      "Name: count, dtype: int64\n"
     ]
    }
   ],
   "source": [
    "conteo_categorias = data['transactionFailed'].value_counts()\n",
    "print(conteo_categorias)"
   ]
  },
  {
   "cell_type": "code",
   "execution_count": 19,
   "metadata": {},
   "outputs": [
    {
     "name": "stdout",
     "output_type": "stream",
     "text": [
      "fraudulent\n",
      "False    107\n",
      "True      61\n",
      "Name: count, dtype: int64\n"
     ]
    }
   ],
   "source": [
    "conteo_categorias = data['fraudulent'].value_counts()\n",
    "print(conteo_categorias)"
   ]
  },
  {
   "cell_type": "code",
   "execution_count": 20,
   "metadata": {},
   "outputs": [
    {
     "data": {
      "image/png": "[encoded data removed]",
      "text/plain": [
       "<Figure size 800x600 with 1 Axes>"
      ]
     },
     "metadata": {},
     "output_type": "display_data"
    }
   ],
   "source": [
    "import matplotlib.pyplot as plt\n",
    "plt.figure(figsize=(8, 6))\n",
    "data['transactionFailed'].value_counts().plot(kind='bar', color='skyblue')\n",
    "plt.title('Distribución de transactionFailed')\n",
    "plt.xlabel('Estado de la transacción')\n",
    "plt.ylabel('Cantidad')\n",
    "plt.xticks(rotation=0)\n",
    "plt.show()"
   ]
  },
  {
   "cell_type": "code",
   "execution_count": 21,
   "metadata": {},
   "outputs": [
    {
     "data": {
      "image/png": "[encoded data removed]",
      "text/plain": [
       "<Figure size 640x480 with 1 Axes>"
      ]
     },
     "metadata": {},
     "output_type": "display_data"
    }
   ],
   "source": [
    "contingency_table = pd.crosstab(data['fraudulent'], data['transactionFailed'])\n",
    "\n",
    "# Crear un gráfico de barras apiladas\n",
    "contingency_table.plot(kind='bar', stacked=True, color=['black', 'yellow'])\n",
    "plt.title('Relación entre Fraudulento y Transacción Fallida')\n",
    "plt.xlabel('Fraudulento')\n",
    "plt.ylabel('Cantidad de Transacciones')\n",
    "plt.xticks(rotation=0)\n",
    "plt.legend(title='Transacción Fallida', labels=['No', 'Sí'])\n",
    "plt.show()"
   ]
  },
  {
   "cell_type": "code",
   "execution_count": 22,
   "metadata": {},
   "outputs": [
    {
     "name": "stdout",
     "output_type": "stream",
     "text": [
      "transactionFailed  False  True \n",
      "fraudulent                     \n",
      "False                 73     34\n",
      "True                  44     17\n"
     ]
    }
   ],
   "source": [
    "import pandas as pd\n",
    "\n",
    "# Crear una tabla de contingencia\n",
    "contingency_table = pd.crosstab(data['fraudulent'], data['transactionFailed'])\n",
    "\n",
    "# Mostrar la tabla de contingencia\n",
    "print(contingency_table)"
   ]
  },
  {
   "cell_type": "code",
   "execution_count": 23,
   "metadata": {},
   "outputs": [
    {
     "data": {
      "application/vnd.plotly.v1+json": {
       "config": {
        "plotlyServerURL": "https://plot.ly"
       },
       "data": [
        {
         "alignmentgroup": "True",
         "hovertemplate": "fraudulent=%{x}<br>transactionAmount=%{y}<extra></extra>",
         "legendgroup": "",
         "marker": {
          "color": "#636efa"
         },
         "name": "",
         "notched": false,
         "offsetgroup": "",
         "orientation": "v",
         "showlegend": false,
         "type": "box",
         "x": [
          false,
          true,
          false,
          false,
          true,
          true,
          true,
          true,
          false,
          true,
          true,
          false,
          false,
          false,
          false,
          true,
          false,
          false,
          false,
          false,
          false,
          false,
          false,
          true,
          false,
          false,
          false,
          false,
          false,
          true,
          false,
          false,
          true,
          false,
          false,
          false,
          false,
          false,
          false,
          false,
          true,
          false,
          false,
          false,
          false,
          true,
          true,
          false,
          false,
          false,
          true,
          false,
          false,
          false,
          false,
          true,
          false,
          true,
          false,
          false,
          true,
          false,
          true,
          false,
          true,
          true,
          false,
          false,
          true,
          false,
          false,
          false,
          false,
          false,
          false,
          false,
          false,
          false,
          true,
          true,
          true,
          false,
          true,
          true,
          true,
          true,
          false,
          false,
          true,
          false,
          true,
          false,
          false,
          true,
          false,
          false,
          true,
          true,
          true,
          true,
          false,
          false,
          true,
          true,
          true,
          true,
          false,
          false,
          true,
          false,
          false,
          false,
          true,
          false,
          false,
          true,
          false,
          false,
          false,
          true,
          true,
          true,
          false,
          false,
          false,
          false,
          true,
          false,
          false,
          true,
          false,
          false,
          false,
          true,
          false,
          false,
          true,
          false,
          false,
          false,
          false,
          true,
          false,
          false,
          true,
          false,
          false,
          false,
          false,
          false,
          false,
          true,
          false,
          true,
          false,
          true,
          false,
          false,
          false,
          false,
          true,
          true,
          false,
          true,
          true,
          true,
          true,
          false,
          null,
          null,
          null,
          null,
          null,
          null,
          null,
          null,
          null,
          null,
          null,
          null,
          null,
          null,
          null,
          null,
          null,
          null,
          null,
          null,
          null,
          null,
          null,
          null,
          null,
          null,
          null,
          null,
          null,
          null,
          null,
          null,
          null,
          null,
          null,
          null,
          null,
          null,
          null,
          null,
          null,
          null,
          null,
          null,
          null,
          null,
          null,
          null,
          null,
          null,
          null,
          null,
          null,
          null,
          null,
          null,
          null,
          null,
          null,
          null,
          null,
          null,
          null,
          null,
          null,
          null,
          null,
          null,
          null,
          null,
          null,
          null,
          null,
          null,
          null,
          null,
          null,
          null,
          null,
          null,
          null,
          null,
          null,
          null,
          null,
          null,
          null,
          null,
          null,
          null,
          null,
          null,
          null,
          null,
          null,
          null,
          null,
          null,
          null,
          null,
          null,
          null,
          null,
          null,
          null,
          null,
          null,
          null,
          null,
          null,
          null,
          null,
          null,
          null,
          null,
          null,
          null,
          null,
          null,
          null,
          null,
          null,
          null,
          null,
          null,
          null,
          null,
          null,
          null,
          null,
          null,
          null,
          null,
          null,
          null,
          null,
          null,
          null,
          null,
          null,
          null,
          null,
          null,
          null,
          null,
          null,
          null,
          null,
          null,
          null,
          null,
          null,
          null,
          null,
          null,
          null,
          null,
          null,
          null,
          null,
          null,
          null,
          null,
          null,
          null,
          null,
          null,
          null,
          null,
          null,
          null,
          null,
          null,
          null,
          null,
          null,
          null,
          null,
          null,
          null,
          null,
          null,
          null,
          null,
          null,
          null,
          null,
          null,
          null,
          null,
          null,
          null,
          null,
          null,
          null,
          null,
          null,
          null,
          null,
          null,
          null,
          null,
          null,
          null,
          null,
          null,
          null,
          null,
          null,
          null,
          null,
          null,
          null,
          null,
          null,
          null,
          null,
          null,
          null,
          null,
          null,
          null,
          null,
          null,
          null,
          null,
          null,
          null,
          null,
          null,
          null,
          null,
          null,
          null,
          null,
          null,
          null,
          null,
          null,
          null,
          null,
          null,
          null,
          null,
          null,
          null,
          null,
          null,
          null,
          null,
          null,
          null,
          null,
          null,
          null,
          null,
          null,
          null,
          null,
          null,
          null,
          null,
          null,
          null,
          null,
          null,
          null,
          null,
          null,
          null,
          null,
          null,
          null,
          null,
          null,
          null,
          null,
          null,
          null,
          null,
          null,
          null,
          null,
          null,
          null,
          null,
          null,
          null,
          null,
          null,
          null,
          null,
          null,
          null,
          null,
          null,
          null,
          null,
          null,
          null,
          null,
          null,
          null,
          null,
          null,
          null,
          null,
          null,
          null,
          null,
          null,
          null,
          null,
          null,
          null,
          null,
          null,
          null,
          null,
          null,
          null,
          null,
          null,
          null,
          null,
          null,
          null,
          null,
          null,
          null,
          null,
          null,
          null,
          null,
          null,
          null,
          null,
          null,
          null,
          null,
          null,
          null,
          null,
          null,
          null,
          null,
          null,
          null,
          null,
          null,
          null,
          null,
          null,
          null,
          null,
          null,
          null,
          null,
          null,
          null,
          null,
          null,
          null,
          null,
          null,
          null,
          null,
          null,
          null,
          null,
          null,
          null,
          null,
          null,
          null,
          null,
          null,
          null,
          null,
          null,
          null,
          null,
          null,
          null,
          null,
          null,
          null,
          null,
          null,
          null,
          null,
          null,
          null,
          null,
          null,
          null,
          null,
          null,
          null,
          null,
          null,
          null,
          null,
          null,
          null,
          null,
          null,
          null,
          null,
          null,
          null,
          null,
          null,
          null,
          null,
          null,
          null,
          null,
          null,
          null,
          null,
          null,
          null,
          null,
          null,
          null,
          null,
          null,
          null,
          null,
          null,
          null,
          null,
          null,
          null,
          null,
          null,
          null,
          null,
          null,
          null,
          null,
          null,
          null,
          null,
          null,
          null,
          null,
          null,
          null,
          null,
          null,
          null,
          null,
          null
         ],
         "x0": " ",
         "xaxis": "x",
         "y": [
          18,
          26,
          45,
          23,
          43,
          33,
          24,
          24,
          25,
          25,
          34,
          26,
          25,
          71,
          66,
          69,
          46,
          68,
          59,
          32,
          25,
          40,
          40,
          65,
          65,
          36,
          68,
          74,
          55,
          25,
          21,
          21,
          21,
          21,
          40,
          40,
          18,
          46,
          12,
          11,
          12,
          30,
          49,
          49,
          45,
          28,
          28,
          10,
          45,
          46,
          16,
          43,
          43,
          34,
          34,
          19,
          46,
          39,
          35,
          46,
          50,
          41,
          44,
          41,
          12,
          12,
          33,
          33,
          33,
          40,
          34,
          12,
          30,
          30,
          30,
          22,
          11,
          14,
          37,
          42,
          42,
          11,
          29,
          31,
          33,
          47,
          47,
          25,
          25,
          25,
          33,
          48,
          11,
          11,
          23,
          38,
          12,
          12,
          12,
          15,
          15,
          11,
          39,
          19,
          19,
          45,
          50,
          42,
          10,
          30,
          30,
          48,
          48,
          42,
          42,
          29,
          65,
          75,
          58,
          58,
          58,
          32,
          36,
          14,
          14,
          15,
          46,
          18,
          30,
          16,
          16,
          30,
          38,
          49,
          29,
          20,
          40,
          44,
          44,
          10,
          34,
          34,
          39,
          49,
          29,
          25,
          25,
          14,
          14,
          14,
          14,
          14,
          32,
          32,
          21,
          10,
          10,
          10,
          11,
          11,
          47,
          47,
          50,
          39,
          18,
          18,
          29,
          41,
          41,
          45,
          22,
          29,
          51,
          51,
          36,
          60,
          52,
          68,
          51,
          31,
          36,
          42,
          35,
          35,
          17,
          17,
          17,
          17,
          33,
          353,
          17,
          24,
          24,
          35,
          32,
          36,
          36,
          36,
          41,
          19,
          19,
          20,
          37,
          37,
          37,
          14,
          49,
          43,
          31,
          46,
          16,
          15,
          18,
          16,
          39,
          37,
          12,
          48,
          48,
          41,
          29,
          22,
          44,
          43,
          43,
          41,
          16,
          16,
          16,
          37,
          31,
          31,
          24,
          24,
          11,
          11,
          42,
          37,
          30,
          30,
          12,
          16,
          14,
          23,
          50,
          34,
          43,
          43,
          15,
          48,
          48,
          45,
          13,
          14,
          49,
          49,
          25,
          41,
          41,
          25,
          45,
          15,
          34,
          22,
          21,
          21,
          35,
          20,
          41,
          34,
          34,
          34,
          32,
          13,
          10,
          18,
          46,
          72,
          50,
          42,
          42,
          56,
          30,
          40,
          34,
          47,
          31,
          28,
          11,
          27,
          27,
          19,
          17,
          27,
          46,
          46,
          59,
          59,
          71,
          75,
          56,
          56,
          48,
          55,
          67,
          67,
          40,
          70,
          52,
          73,
          43,
          45,
          15,
          15,
          16,
          39,
          40,
          33,
          33,
          50,
          36,
          35,
          46,
          49,
          16,
          36,
          36,
          36,
          15,
          43,
          36,
          11,
          27,
          31,
          33,
          46,
          12,
          12,
          32,
          20,
          21,
          14,
          22,
          22,
          14,
          36,
          60,
          57,
          59,
          64,
          64,
          54,
          55,
          55,
          47,
          74,
          57,
          57,
          57,
          57,
          53,
          61,
          67,
          47,
          36,
          17,
          25,
          30,
          41,
          10,
          38,
          38,
          32,
          32,
          18,
          11,
          11,
          47,
          17,
          72,
          72,
          60,
          60,
          42,
          33,
          33,
          33,
          35,
          40,
          40,
          40,
          36,
          66,
          46,
          47,
          72,
          17,
          46,
          42,
          36,
          10,
          10,
          30,
          42,
          21,
          16,
          39,
          22,
          22,
          16,
          45,
          13,
          74,
          67,
          42,
          43,
          12,
          11,
          11,
          39,
          14,
          14,
          35,
          19,
          32,
          35,
          14,
          39,
          39,
          74,
          46,
          71,
          45,
          32,
          44,
          61,
          40,
          49,
          46,
          31,
          66,
          70,
          32,
          32,
          50,
          38,
          38,
          72,
          43,
          16,
          12,
          28,
          17,
          23,
          11,
          38,
          26,
          46,
          24,
          39,
          39,
          39,
          49,
          47,
          11,
          47,
          47,
          24,
          48,
          33,
          14,
          14,
          14,
          14,
          50,
          22,
          22,
          22,
          13,
          48,
          30,
          47,
          26,
          45,
          39,
          11,
          22,
          15,
          30,
          19,
          40,
          12,
          35,
          23,
          23,
          35,
          15,
          45,
          13,
          17,
          33,
          33,
          37,
          49,
          14,
          26,
          36,
          36,
          36,
          36,
          36,
          36,
          40,
          40,
          20,
          20,
          20,
          20,
          20,
          20,
          20,
          49,
          63,
          55,
          62,
          62,
          73,
          68,
          34,
          47,
          34,
          43,
          43,
          50,
          48,
          48,
          48,
          29,
          27,
          19,
          37,
          25,
          22,
          38,
          11,
          45,
          45,
          18,
          12,
          12,
          12,
          12,
          12,
          49,
          12,
          12,
          22,
          22,
          31,
          35,
          34,
          10,
          35,
          35,
          44,
          44,
          47,
          22,
          22,
          46,
          46,
          34,
          28,
          28,
          44,
          21,
          20,
          39,
          16,
          15,
          12,
          21,
          21,
          14,
          33,
          33,
          30,
          44,
          26,
          46,
          46,
          36,
          16,
          47,
          47,
          31,
          61,
          34,
          30,
          43,
          14,
          14,
          21,
          27,
          35,
          13,
          46,
          27,
          49,
          54,
          54,
          37,
          37,
          43,
          64,
          40,
          23,
          32,
          25,
          25,
          25,
          19,
          27
         ],
         "y0": " ",
         "yaxis": "y"
        }
       ],
       "layout": {
        "boxmode": "group",
        "legend": {
         "tracegroupgap": 0
        },
        "margin": {
         "t": 60
        },
        "template": {
         "data": {
          "bar": [
           {
            "error_x": {
             "color": "#2a3f5f"
            },
            "error_y": {
             "color": "#2a3f5f"
            },
            "marker": {
             "line": {
              "color": "#E5ECF6",
              "width": 0.5
             },
             "pattern": {
              "fillmode": "overlay",
              "size": 10,
              "solidity": 0.2
             }
            },
            "type": "bar"
           }
          ],
          "barpolar": [
           {
            "marker": {
             "line": {
              "color": "#E5ECF6",
              "width": 0.5
             },
             "pattern": {
              "fillmode": "overlay",
              "size": 10,
              "solidity": 0.2
             }
            },
            "type": "barpolar"
           }
          ],
          "carpet": [
           {
            "aaxis": {
             "endlinecolor": "#2a3f5f",
             "gridcolor": "white",
             "linecolor": "white",
             "minorgridcolor": "white",
             "startlinecolor": "#2a3f5f"
            },
            "baxis": {
             "endlinecolor": "#2a3f5f",
             "gridcolor": "white",
             "linecolor": "white",
             "minorgridcolor": "white",
             "startlinecolor": "#2a3f5f"
            },
            "type": "carpet"
           }
          ],
          "choropleth": [
           {
            "colorbar": {
             "outlinewidth": 0,
             "ticks": ""
            },
            "type": "choropleth"
           }
          ],
          "contour": [
           {
            "colorbar": {
             "outlinewidth": 0,
             "ticks": ""
            },
            "colorscale": [
             [
              0,
              "#0d0887"
             ],
             [
              0.1111111111111111,
              "#46039f"
             ],
             [
              0.2222222222222222,
              "#7201a8"
             ],
             [
              0.3333333333333333,
              "#9c179e"
             ],
             [
              0.4444444444444444,
              "#bd3786"
             ],
             [
              0.5555555555555556,
              "#d8576b"
             ],
             [
              0.6666666666666666,
              "#ed7953"
             ],
             [
              0.7777777777777778,
              "#fb9f3a"
             ],
             [
              0.8888888888888888,
              "#fdca26"
             ],
             [
              1,
              "#f0f921"
             ]
            ],
            "type": "contour"
           }
          ],
          "contourcarpet": [
           {
            "colorbar": {
             "outlinewidth": 0,
             "ticks": ""
            },
            "type": "contourcarpet"
           }
          ],
          "heatmap": [
           {
            "colorbar": {
             "outlinewidth": 0,
             "ticks": ""
            },
            "colorscale": [
             [
              0,
              "#0d0887"
             ],
             [
              0.1111111111111111,
              "#46039f"
             ],
             [
              0.2222222222222222,
              "#7201a8"
             ],
             [
              0.3333333333333333,
              "#9c179e"
             ],
             [
              0.4444444444444444,
              "#bd3786"
             ],
             [
              0.5555555555555556,
              "#d8576b"
             ],
             [
              0.6666666666666666,
              "#ed7953"
             ],
             [
              0.7777777777777778,
              "#fb9f3a"
             ],
             [
              0.8888888888888888,
              "#fdca26"
             ],
             [
              1,
              "#f0f921"
             ]
            ],
            "type": "heatmap"
           }
          ],
          "heatmapgl": [
           {
            "colorbar": {
             "outlinewidth": 0,
             "ticks": ""
            },
            "colorscale": [
             [
              0,
              "#0d0887"
             ],
             [
              0.1111111111111111,
              "#46039f"
             ],
             [
              0.2222222222222222,
              "#7201a8"
             ],
             [
              0.3333333333333333,
              "#9c179e"
             ],
             [
              0.4444444444444444,
              "#bd3786"
             ],
             [
              0.5555555555555556,
              "#d8576b"
             ],
             [
              0.6666666666666666,
              "#ed7953"
             ],
             [
              0.7777777777777778,
              "#fb9f3a"
             ],
             [
              0.8888888888888888,
              "#fdca26"
             ],
             [
              1,
              "#f0f921"
             ]
            ],
            "type": "heatmapgl"
           }
          ],
          "histogram": [
           {
            "marker": {
             "pattern": {
              "fillmode": "overlay",
              "size": 10,
              "solidity": 0.2
             }
            },
            "type": "histogram"
           }
          ],
          "histogram2d": [
           {
            "colorbar": {
             "outlinewidth": 0,
             "ticks": ""
            },
            "colorscale": [
             [
              0,
              "#0d0887"
             ],
             [
              0.1111111111111111,
              "#46039f"
             ],
             [
              0.2222222222222222,
              "#7201a8"
             ],
             [
              0.3333333333333333,
              "#9c179e"
             ],
             [
              0.4444444444444444,
              "#bd3786"
             ],
             [
              0.5555555555555556,
              "#d8576b"
             ],
             [
              0.6666666666666666,
              "#ed7953"
             ],
             [
              0.7777777777777778,
              "#fb9f3a"
             ],
             [
              0.8888888888888888,
              "#fdca26"
             ],
             [
              1,
              "#f0f921"
             ]
            ],
            "type": "histogram2d"
           }
          ],
          "histogram2dcontour": [
           {
            "colorbar": {
             "outlinewidth": 0,
             "ticks": ""
            },
            "colorscale": [
             [
              0,
              "#0d0887"
             ],
             [
              0.1111111111111111,
              "#46039f"
             ],
             [
              0.2222222222222222,
              "#7201a8"
             ],
             [
              0.3333333333333333,
              "#9c179e"
             ],
             [
              0.4444444444444444,
              "#bd3786"
             ],
             [
              0.5555555555555556,
              "#d8576b"
             ],
             [
              0.6666666666666666,
              "#ed7953"
             ],
             [
              0.7777777777777778,
              "#fb9f3a"
             ],
             [
              0.8888888888888888,
              "#fdca26"
             ],
             [
              1,
              "#f0f921"
             ]
            ],
            "type": "histogram2dcontour"
           }
          ],
          "mesh3d": [
           {
            "colorbar": {
             "outlinewidth": 0,
             "ticks": ""
            },
            "type": "mesh3d"
           }
          ],
          "parcoords": [
           {
            "line": {
             "colorbar": {
              "outlinewidth": 0,
              "ticks": ""
             }
            },
            "type": "parcoords"
           }
          ],
          "pie": [
           {
            "automargin": true,
            "type": "pie"
           }
          ],
          "scatter": [
           {
            "fillpattern": {
             "fillmode": "overlay",
             "size": 10,
             "solidity": 0.2
            },
            "type": "scatter"
           }
          ],
          "scatter3d": [
           {
            "line": {
             "colorbar": {
              "outlinewidth": 0,
              "ticks": ""
             }
            },
            "marker": {
             "colorbar": {
              "outlinewidth": 0,
              "ticks": ""
             }
            },
            "type": "scatter3d"
           }
          ],
          "scattercarpet": [
           {
            "marker": {
             "colorbar": {
              "outlinewidth": 0,
              "ticks": ""
             }
            },
            "type": "scattercarpet"
           }
          ],
          "scattergeo": [
           {
            "marker": {
             "colorbar": {
              "outlinewidth": 0,
              "ticks": ""
             }
            },
            "type": "scattergeo"
           }
          ],
          "scattergl": [
           {
            "marker": {
             "colorbar": {
              "outlinewidth": 0,
              "ticks": ""
             }
            },
            "type": "scattergl"
           }
          ],
          "scattermapbox": [
           {
            "marker": {
             "colorbar": {
              "outlinewidth": 0,
              "ticks": ""
             }
            },
            "type": "scattermapbox"
           }
          ],
          "scatterpolar": [
           {
            "marker": {
             "colorbar": {
              "outlinewidth": 0,
              "ticks": ""
             }
            },
            "type": "scatterpolar"
           }
          ],
          "scatterpolargl": [
           {
            "marker": {
             "colorbar": {
              "outlinewidth": 0,
              "ticks": ""
             }
            },
            "type": "scatterpolargl"
           }
          ],
          "scatterternary": [
           {
            "marker": {
             "colorbar": {
              "outlinewidth": 0,
              "ticks": ""
             }
            },
            "type": "scatterternary"
           }
          ],
          "surface": [
           {
            "colorbar": {
             "outlinewidth": 0,
             "ticks": ""
            },
            "colorscale": [
             [
              0,
              "#0d0887"
             ],
             [
              0.1111111111111111,
              "#46039f"
             ],
             [
              0.2222222222222222,
              "#7201a8"
             ],
             [
              0.3333333333333333,
              "#9c179e"
             ],
             [
              0.4444444444444444,
              "#bd3786"
             ],
             [
              0.5555555555555556,
              "#d8576b"
             ],
             [
              0.6666666666666666,
              "#ed7953"
             ],
             [
              0.7777777777777778,
              "#fb9f3a"
             ],
             [
              0.8888888888888888,
              "#fdca26"
             ],
             [
              1,
              "#f0f921"
             ]
            ],
            "type": "surface"
           }
          ],
          "table": [
           {
            "cells": {
             "fill": {
              "color": "#EBF0F8"
             },
             "line": {
              "color": "white"
             }
            },
            "header": {
             "fill": {
              "color": "#C8D4E3"
             },
             "line": {
              "color": "white"
             }
            },
            "type": "table"
           }
          ]
         },
         "layout": {
          "annotationdefaults": {
           "arrowcolor": "#2a3f5f",
           "arrowhead": 0,
           "arrowwidth": 1
          },
          "autotypenumbers": "strict",
          "coloraxis": {
           "colorbar": {
            "outlinewidth": 0,
            "ticks": ""
           }
          },
          "colorscale": {
           "diverging": [
            [
             0,
             "#8e0152"
            ],
            [
             0.1,
             "#c51b7d"
            ],
            [
             0.2,
             "#de77ae"
            ],
            [
             0.3,
             "#f1b6da"
            ],
            [
             0.4,
             "#fde0ef"
            ],
            [
             0.5,
             "#f7f7f7"
            ],
            [
             0.6,
             "#e6f5d0"
            ],
            [
             0.7,
             "#b8e186"
            ],
            [
             0.8,
             "#7fbc41"
            ],
            [
             0.9,
             "#4d9221"
            ],
            [
             1,
             "#276419"
            ]
           ],
           "sequential": [
            [
             0,
             "#0d0887"
            ],
            [
             0.1111111111111111,
             "#46039f"
            ],
            [
             0.2222222222222222,
             "#7201a8"
            ],
            [
             0.3333333333333333,
             "#9c179e"
            ],
            [
             0.4444444444444444,
             "#bd3786"
            ],
            [
             0.5555555555555556,
             "#d8576b"
            ],
            [
             0.6666666666666666,
             "#ed7953"
            ],
            [
             0.7777777777777778,
             "#fb9f3a"
            ],
            [
             0.8888888888888888,
             "#fdca26"
            ],
            [
             1,
             "#f0f921"
            ]
           ],
           "sequentialminus": [
            [
             0,
             "#0d0887"
            ],
            [
             0.1111111111111111,
             "#46039f"
            ],
            [
             0.2222222222222222,
             "#7201a8"
            ],
            [
             0.3333333333333333,
             "#9c179e"
            ],
            [
             0.4444444444444444,
             "#bd3786"
            ],
            [
             0.5555555555555556,
             "#d8576b"
            ],
            [
             0.6666666666666666,
             "#ed7953"
            ],
            [
             0.7777777777777778,
             "#fb9f3a"
            ],
            [
             0.8888888888888888,
             "#fdca26"
            ],
            [
             1,
             "#f0f921"
            ]
           ]
          },
          "colorway": [
           "#636efa",
           "#EF553B",
           "#00cc96",
           "#ab63fa",
           "#FFA15A",
           "#19d3f3",
           "#FF6692",
           "#B6E880",
           "#FF97FF",
           "#FECB52"
          ],
          "font": {
           "color": "#2a3f5f"
          },
          "geo": {
           "bgcolor": "white",
           "lakecolor": "white",
           "landcolor": "#E5ECF6",
           "showlakes": true,
           "showland": true,
           "subunitcolor": "white"
          },
          "hoverlabel": {
           "align": "left"
          },
          "hovermode": "closest",
          "mapbox": {
           "style": "light"
          },
          "paper_bgcolor": "white",
          "plot_bgcolor": "#E5ECF6",
          "polar": {
           "angularaxis": {
            "gridcolor": "white",
            "linecolor": "white",
            "ticks": ""
           },
           "bgcolor": "#E5ECF6",
           "radialaxis": {
            "gridcolor": "white",
            "linecolor": "white",
            "ticks": ""
           }
          },
          "scene": {
           "xaxis": {
            "backgroundcolor": "#E5ECF6",
            "gridcolor": "white",
            "gridwidth": 2,
            "linecolor": "white",
            "showbackground": true,
            "ticks": "",
            "zerolinecolor": "white"
           },
           "yaxis": {
            "backgroundcolor": "#E5ECF6",
            "gridcolor": "white",
            "gridwidth": 2,
            "linecolor": "white",
            "showbackground": true,
            "ticks": "",
            "zerolinecolor": "white"
           },
           "zaxis": {
            "backgroundcolor": "#E5ECF6",
            "gridcolor": "white",
            "gridwidth": 2,
            "linecolor": "white",
            "showbackground": true,
            "ticks": "",
            "zerolinecolor": "white"
           }
          },
          "shapedefaults": {
           "line": {
            "color": "#2a3f5f"
           }
          },
          "ternary": {
           "aaxis": {
            "gridcolor": "white",
            "linecolor": "white",
            "ticks": ""
           },
           "baxis": {
            "gridcolor": "white",
            "linecolor": "white",
            "ticks": ""
           },
           "bgcolor": "#E5ECF6",
           "caxis": {
            "gridcolor": "white",
            "linecolor": "white",
            "ticks": ""
           }
          },
          "title": {
           "x": 0.05
          },
          "xaxis": {
           "automargin": true,
           "gridcolor": "white",
           "linecolor": "white",
           "ticks": "",
           "title": {
            "standoff": 15
           },
           "zerolinecolor": "white",
           "zerolinewidth": 2
          },
          "yaxis": {
           "automargin": true,
           "gridcolor": "white",
           "linecolor": "white",
           "ticks": "",
           "title": {
            "standoff": 15
           },
           "zerolinecolor": "white",
           "zerolinewidth": 2
          }
         }
        },
        "xaxis": {
         "anchor": "y",
         "domain": [
          0,
          1
         ],
         "title": {
          "text": "fraudulent"
         }
        },
        "yaxis": {
         "anchor": "x",
         "domain": [
          0,
          1
         ],
         "title": {
          "text": "transactionAmount"
         }
        }
       }
      }
     },
     "metadata": {},
     "output_type": "display_data"
    }
   ],
   "source": [
    "import plotly.express as px\n",
    "\n",
    "fig = px.box(data, x=\"fraudulent\", y=\"transactionAmount\")\n",
    "fig.show()"
   ]
  },
  {
   "cell_type": "code",
   "execution_count": 24,
   "metadata": {},
   "outputs": [
    {
     "name": "stderr",
     "output_type": "stream",
     "text": [
      "c:\\Users\\fedev\\OneDrive\\Escritorio\\twting\\env\\Lib\\site-packages\\seaborn\\_oldcore.py:1498: FutureWarning:\n",
      "\n",
      "is_categorical_dtype is deprecated and will be removed in a future version. Use isinstance(dtype, CategoricalDtype) instead\n",
      "\n",
      "c:\\Users\\fedev\\OneDrive\\Escritorio\\twting\\env\\Lib\\site-packages\\seaborn\\_oldcore.py:1498: FutureWarning:\n",
      "\n",
      "is_categorical_dtype is deprecated and will be removed in a future version. Use isinstance(dtype, CategoricalDtype) instead\n",
      "\n",
      "c:\\Users\\fedev\\OneDrive\\Escritorio\\twting\\env\\Lib\\site-packages\\seaborn\\_oldcore.py:1498: FutureWarning:\n",
      "\n",
      "is_categorical_dtype is deprecated and will be removed in a future version. Use isinstance(dtype, CategoricalDtype) instead\n",
      "\n"
     ]
    },
    {
     "data": {
      "image/png": "[encoded data removed]",
      "text/plain": [
       "<Figure size 1000x600 with 1 Axes>"
      ]
     },
     "metadata": {},
     "output_type": "display_data"
    }
   ],
   "source": [
    "import seaborn as sns\n",
    "import matplotlib.pyplot as plt\n",
    "\n",
    "plt.figure(figsize=(10, 6))\n",
    "sns.boxplot(data=data, x='fraudulent', y='transactionAmount')\n",
    "plt.title('Relación entre Fraudulento y Monto de la Transacción')\n",
    "plt.xlabel('Fraudulento')\n",
    "plt.ylabel('Monto de la Transacción')\n",
    "plt.show()\n"
   ]
  },
  {
   "cell_type": "code",
   "execution_count": 25,
   "metadata": {},
   "outputs": [
    {
     "data": {
      "image/png": "[encoded data removed]",
      "text/plain": [
       "<Figure size 640x480 with 1 Axes>"
      ]
     },
     "metadata": {},
     "output_type": "display_data"
    }
   ],
   "source": [
    "import  matplotlib.pyplot as plt\n",
    "\n",
    "plt.scatter(data['orderAmount'], data['transactionAmount'])\n",
    "plt.title('Relación entre Order Amount y Transaction Amount')\n",
    "plt.xlabel('Order Amount')\n",
    "plt.ylabel('Transaction Amount')\n",
    "plt.show()"
   ]
  },
  {
   "cell_type": "code",
   "execution_count": 26,
   "metadata": {},
   "outputs": [
    {
     "name": "stdout",
     "output_type": "stream",
     "text": [
      "Coeficiente de Correlación: -0.07740750251294681\n"
     ]
    }
   ],
   "source": [
    "correlation_coefficient = data['orderAmount'].corr(data['transactionAmount'])\n",
    "print(f'Coeficiente de Correlación: {correlation_coefficient}')"
   ]
  },
  {
   "cell_type": "code",
   "execution_count": 37,
   "metadata": {},
   "outputs": [
    {
     "data": {
      "image/png": "[encoded data removed]",
      "text/plain": [
       "<Figure size 640x480 with 1 Axes>"
      ]
     },
     "metadata": {},
     "output_type": "display_data"
    }
   ],
   "source": [
    "import pandas as pd \n",
    "contingency_table = pd.crosstab(data['orderAmount'], data['transactionFailed'])\n",
    "\n",
    "# Crear un gráfico de barras apiladas\n",
    "contingency_table.plot(kind='bar', stacked=True, color=['orange', 'green'])\n",
    "plt.title('Relación entre Fraudulento y Transacción Fallida')\n",
    "plt.xlabel('Fraudulento')\n",
    "plt.ylabel('Cantidad de Transacciones')\n",
    "plt.xticks(rotation=0)\n",
    "plt.legend(title='Transacción Fallida', labels=['No', 'Sí'])\n",
    "plt.show()"
   ]
  },
  {
   "cell_type": "code",
   "execution_count": 28,
   "metadata": {},
   "outputs": [
    {
     "name": "stdout",
     "output_type": "stream",
     "text": [
      "       orderAmount  transactionAmount\n",
      "count   478.000000         623.000000\n",
      "mean     35.606695          34.598716\n",
      "std      21.667298          20.360247\n",
      "min      10.000000          10.000000\n",
      "25%      22.000000          21.000000\n",
      "50%      35.000000          34.000000\n",
      "75%      46.000000          45.000000\n",
      "max     353.000000         353.000000\n"
     ]
    }
   ],
   "source": [
    "stats = data[['orderAmount', 'transactionAmount']].describe()\n",
    "print(stats)"
   ]
  },
  {
   "cell_type": "code",
   "execution_count": 29,
   "metadata": {},
   "outputs": [
    {
     "name": "stdout",
     "output_type": "stream",
     "text": [
      "orderAmount                         float64\n",
      "orderState                           object\n",
      "paymentMethodRegistrationFailure     object\n",
      "paymentMethodType                    object\n",
      "paymentMethodProvider                object\n",
      "paymentMethodIssuer                  object\n",
      "transactionAmount                     int64\n",
      "transactionFailed                      bool\n",
      "fraudulent                           object\n",
      "emailDomain                          object\n",
      "emailProvider                        object\n",
      "customerIPAddressSimplified          object\n",
      "sameCity                             object\n",
      "dtype: object\n"
     ]
    }
   ],
   "source": [
    " ##Promedio de todas las variables, por nuestra variable a predecir `transactionAmount`\n",
    "\n",
    "## 3) Gráficos en AED\n",
    "print(data.dtypes)\n"
   ]
  },
  {
   "cell_type": "code",
   "execution_count": 30,
   "metadata": {},
   "outputs": [
    {
     "name": "stderr",
     "output_type": "stream",
     "text": [
      "c:\\Users\\fedev\\OneDrive\\Escritorio\\twting\\env\\Lib\\site-packages\\seaborn\\_oldcore.py:1498: FutureWarning:\n",
      "\n",
      "is_categorical_dtype is deprecated and will be removed in a future version. Use isinstance(dtype, CategoricalDtype) instead\n",
      "\n",
      "c:\\Users\\fedev\\OneDrive\\Escritorio\\twting\\env\\Lib\\site-packages\\seaborn\\_oldcore.py:1498: FutureWarning:\n",
      "\n",
      "is_categorical_dtype is deprecated and will be removed in a future version. Use isinstance(dtype, CategoricalDtype) instead\n",
      "\n",
      "c:\\Users\\fedev\\OneDrive\\Escritorio\\twting\\env\\Lib\\site-packages\\seaborn\\_oldcore.py:1498: FutureWarning:\n",
      "\n",
      "is_categorical_dtype is deprecated and will be removed in a future version. Use isinstance(dtype, CategoricalDtype) instead\n",
      "\n"
     ]
    },
    {
     "data": {
      "image/png": "[encoded data removed]",
      "text/plain": [
       "<Figure size 800x600 with 1 Axes>"
      ]
     },
     "metadata": {},
     "output_type": "display_data"
    }
   ],
   "source": [
    "plt.figure(figsize=(8, 6))\n",
    "sns.boxplot(x='transactionFailed', y='transactionAmount', data=data)\n",
    "plt.title('Boxplot de transactionAmount vs. transactionFailed')\n",
    "plt.xlabel('transactionFailed')\n",
    "plt.ylabel('transactionAmount')\n",
    "plt.show()"
   ]
  },
  {
   "cell_type": "markdown",
   "metadata": {},
   "source": [
    "Existe el valor atipico en True"
   ]
  },
  {
   "cell_type": "code",
   "execution_count": 31,
   "metadata": {},
   "outputs": [
    {
     "data": {
      "image/png": "[encoded data removed]",
      "text/plain": [
       "<Figure size 1000x600 with 1 Axes>"
      ]
     },
     "metadata": {},
     "output_type": "display_data"
    }
   ],
   "source": [
    "contingency_table = pd.crosstab(data['paymentMethodType'], data['orderState'])\n",
    "\n",
    "custom_palette = sns.color_palette(\"Set2\")  \n",
    "sns.set_palette(custom_palette)\n",
    "\n",
    "contingency_table.plot(kind='bar', stacked=True, figsize=(10, 6))\n",
    "plt.title('Relación entre paymentMethodType y orderState')\n",
    "plt.xlabel('paymentMethodType')\n",
    "plt.ylabel('Frecuencia')\n",
    "plt.legend(title='orderState', loc='upper right')\n",
    "plt.show()"
   ]
  },
  {
   "cell_type": "code",
   "execution_count": 32,
   "metadata": {},
   "outputs": [
    {
     "name": "stdout",
     "output_type": "stream",
     "text": [
      "Coeficiente de Correlación de Pearson: -0.07740750251294681\n"
     ]
    }
   ],
   "source": [
    "data_aux = data[[\"orderAmount\", \"transactionAmount\"]].copy()\n",
    "# Calcular el coeficiente de correlación de Pearson\n",
    "correlation = data_aux['orderAmount'].corr(data_aux['transactionAmount'])\n",
    "print(f\"Coeficiente de Correlación de Pearson: {correlation}\")\n"
   ]
  },
  {
   "cell_type": "code",
   "execution_count": 33,
   "metadata": {},
   "outputs": [
    {
     "data": {
      "image/png": "[encoded data removed]",
      "text/plain": [
       "<Figure size 800x600 with 1 Axes>"
      ]
     },
     "metadata": {},
     "output_type": "display_data"
    }
   ],
   "source": [
    "plt.figure(figsize=(8, 6))\n",
    "plt.scatter(data_aux['orderAmount'], data_aux['transactionAmount'], alpha=0.5)\n",
    "plt.title('Gráfico de Dispersión entre orderAmount y transactionAmount')\n",
    "plt.xlabel('orderAmount')\n",
    "plt.ylabel('transactionAmount')\n",
    "plt.grid(True)\n",
    "plt.show()"
   ]
  },
  {
   "cell_type": "code",
   "execution_count": 44,
   "metadata": {},
   "outputs": [
    {
     "name": "stderr",
     "output_type": "stream",
     "text": [
      "C:\\Users\\fedev\\AppData\\Local\\Temp\\ipykernel_616\\2762523821.py:1: DeprecationWarning:\n",
      "\n",
      "`import pandas_profiling` is going to be deprecated by April 1st. Please use `import ydata_profiling` instead.\n",
      "\n"
     ]
    }
   ],
   "source": [
    "from  pandas_profiling import ProfileReport"
   ]
  },
  {
   "cell_type": "code",
   "execution_count": 39,
   "metadata": {},
   "outputs": [
    {
     "name": "stdout",
     "output_type": "stream",
     "text": [
      "Collecting ydata_profiling"
     ]
    },
    {
     "name": "stderr",
     "output_type": "stream",
     "text": [
      "ERROR: Could not install packages due to an OSError: [WinError 5] Acceso denegado: 'C:\\\\Users\\\\fedev\\\\OneDrive\\\\Escritorio\\\\twting\\\\env\\\\Lib\\\\site-packages\\\\~andas.libs\\\\msvcp140-59fdf63e48138046aebeb6ddb5b4e960.dll'\n",
      "Check the permissions.\n",
      "\n"
     ]
    },
    {
     "name": "stdout",
     "output_type": "stream",
     "text": [
      "\n",
      "  Obtaining dependency information for ydata_profiling from https://files.pythonhosted.org/packages/09/98/5a5fbfd48bf23acd3ceed5114d073b877965816304078151fefbf86d8458/ydata_profiling-4.5.1-py2.py3-none-any.whl.metadata\n",
      "  Using cached ydata_profiling-4.5.1-py2.py3-none-any.whl.metadata (20 kB)\n",
      "Requirement already satisfied: scipy<1.12,>=1.4.1 in c:\\users\\fedev\\onedrive\\escritorio\\twting\\env\\lib\\site-packages (from ydata_profiling) (1.11.2)\n",
      "Collecting pandas!=1.4.0,<2.1,>1.1 (from ydata_profiling)\n",
      "  Obtaining dependency information for pandas!=1.4.0,<2.1,>1.1 from https://files.pythonhosted.org/packages/9e/71/756a1be6bee0209d8c0d8c5e3b9fc72c00373f384a4017095ec404aec3ad/pandas-2.0.3-cp311-cp311-win_amd64.whl.metadata\n",
      "  Using cached pandas-2.0.3-cp311-cp311-win_amd64.whl.metadata (18 kB)\n",
      "Requirement already satisfied: matplotlib<4,>=3.2 in c:\\users\\fedev\\onedrive\\escritorio\\twting\\env\\lib\\site-packages (from ydata_profiling) (3.8.0)\n",
      "Requirement already satisfied: pydantic<2,>=1.8.1 in c:\\users\\fedev\\onedrive\\escritorio\\twting\\env\\lib\\site-packages (from ydata_profiling) (1.10.12)\n",
      "Requirement already satisfied: PyYAML<6.1,>=5.0.0 in c:\\users\\fedev\\onedrive\\escritorio\\twting\\env\\lib\\site-packages (from ydata_profiling) (6.0.1)\n",
      "Requirement already satisfied: jinja2<3.2,>=2.11.1 in c:\\users\\fedev\\onedrive\\escritorio\\twting\\env\\lib\\site-packages (from ydata_profiling) (3.1.2)\n",
      "Collecting visions[type_image_path]==0.7.5 (from ydata_profiling)\n",
      "  Using cached visions-0.7.5-py3-none-any.whl (102 kB)\n",
      "Requirement already satisfied: numpy<1.24,>=1.16.0 in c:\\users\\fedev\\onedrive\\escritorio\\twting\\env\\lib\\site-packages (from ydata_profiling) (1.23.5)\n",
      "Requirement already satisfied: htmlmin==0.1.12 in c:\\users\\fedev\\onedrive\\escritorio\\twting\\env\\lib\\site-packages (from ydata_profiling) (0.1.12)\n",
      "Collecting phik<0.13,>=0.11.1 (from ydata_profiling)\n",
      "  Using cached phik-0.12.3-cp311-cp311-win_amd64.whl (663 kB)\n",
      "Requirement already satisfied: requests<3,>=2.24.0 in c:\\users\\fedev\\onedrive\\escritorio\\twting\\env\\lib\\site-packages (from ydata_profiling) (2.31.0)\n",
      "Requirement already satisfied: tqdm<5,>=4.48.2 in c:\\users\\fedev\\onedrive\\escritorio\\twting\\env\\lib\\site-packages (from ydata_profiling) (4.66.1)\n",
      "Requirement already satisfied: seaborn<0.13,>=0.10.1 in c:\\users\\fedev\\onedrive\\escritorio\\twting\\env\\lib\\site-packages (from ydata_profiling) (0.12.2)\n",
      "Collecting multimethod<2,>=1.4 (from ydata_profiling)\n",
      "  Obtaining dependency information for multimethod<2,>=1.4 from https://files.pythonhosted.org/packages/7f/bd/750245e47e7f307d9f94d4fa84727f4ed9956005dfa671d58be1d531a0f6/multimethod-1.10-py3-none-any.whl.metadata\n",
      "  Using cached multimethod-1.10-py3-none-any.whl.metadata (8.2 kB)\n",
      "Collecting statsmodels<1,>=0.13.2 (from ydata_profiling)\n",
      "  Using cached statsmodels-0.14.0-cp311-cp311-win_amd64.whl (9.2 MB)\n",
      "Requirement already satisfied: typeguard<3,>=2.13.2 in c:\\users\\fedev\\onedrive\\escritorio\\twting\\env\\lib\\site-packages (from ydata_profiling) (2.13.3)\n",
      "Collecting imagehash==4.3.1 (from ydata_profiling)\n",
      "  Using cached ImageHash-4.3.1-py2.py3-none-any.whl (296 kB)\n",
      "Collecting wordcloud>=1.9.1 (from ydata_profiling)\n",
      "  Obtaining dependency information for wordcloud>=1.9.1 from https://files.pythonhosted.org/packages/34/ac/72a4e42e76bf549dfd91791a6b10a9832f046c1d48b5e778be9ec012aa47/wordcloud-1.9.2-cp311-cp311-win_amd64.whl.metadata\n",
      "  Using cached wordcloud-1.9.2-cp311-cp311-win_amd64.whl.metadata (3.4 kB)\n",
      "Collecting dacite>=1.8 (from ydata_profiling)\n",
      "  Obtaining dependency information for dacite>=1.8 from https://files.pythonhosted.org/packages/21/0f/cf0943f4f55f0fbc7c6bd60caf1343061dff818b02af5a0d444e473bb78d/dacite-1.8.1-py3-none-any.whl.metadata\n",
      "  Using cached dacite-1.8.1-py3-none-any.whl.metadata (15 kB)\n",
      "Collecting PyWavelets (from imagehash==4.3.1->ydata_profiling)\n",
      "  Using cached PyWavelets-1.4.1-cp311-cp311-win_amd64.whl (4.2 MB)\n",
      "Requirement already satisfied: pillow in c:\\users\\fedev\\onedrive\\escritorio\\twting\\env\\lib\\site-packages (from imagehash==4.3.1->ydata_profiling) (10.0.1)\n",
      "Requirement already satisfied: attrs>=19.3.0 in c:\\users\\fedev\\onedrive\\escritorio\\twting\\env\\lib\\site-packages (from visions[type_image_path]==0.7.5->ydata_profiling) (23.1.0)\n",
      "Collecting networkx>=2.4 (from visions[type_image_path]==0.7.5->ydata_profiling)\n",
      "  Using cached networkx-3.1-py3-none-any.whl (2.1 MB)\n",
      "Requirement already satisfied: tangled-up-in-unicode>=0.0.4 in c:\\users\\fedev\\onedrive\\escritorio\\twting\\env\\lib\\site-packages (from visions[type_image_path]==0.7.5->ydata_profiling) (0.2.0)\n",
      "Requirement already satisfied: MarkupSafe>=2.0 in c:\\users\\fedev\\onedrive\\escritorio\\twting\\env\\lib\\site-packages (from jinja2<3.2,>=2.11.1->ydata_profiling) (2.1.3)\n",
      "Requirement already satisfied: contourpy>=1.0.1 in c:\\users\\fedev\\onedrive\\escritorio\\twting\\env\\lib\\site-packages (from matplotlib<4,>=3.2->ydata_profiling) (1.1.1)\n",
      "Requirement already satisfied: cycler>=0.10 in c:\\users\\fedev\\onedrive\\escritorio\\twting\\env\\lib\\site-packages (from matplotlib<4,>=3.2->ydata_profiling) (0.11.0)\n",
      "Requirement already satisfied: fonttools>=4.22.0 in c:\\users\\fedev\\onedrive\\escritorio\\twting\\env\\lib\\site-packages (from matplotlib<4,>=3.2->ydata_profiling) (4.42.1)\n",
      "Requirement already satisfied: kiwisolver>=1.0.1 in c:\\users\\fedev\\onedrive\\escritorio\\twting\\env\\lib\\site-packages (from matplotlib<4,>=3.2->ydata_profiling) (1.4.5)\n",
      "Requirement already satisfied: packaging>=20.0 in c:\\users\\fedev\\onedrive\\escritorio\\twting\\env\\lib\\site-packages (from matplotlib<4,>=3.2->ydata_profiling) (23.1)\n",
      "Requirement already satisfied: pyparsing>=2.3.1 in c:\\users\\fedev\\onedrive\\escritorio\\twting\\env\\lib\\site-packages (from matplotlib<4,>=3.2->ydata_profiling) (3.1.1)\n",
      "Requirement already satisfied: python-dateutil>=2.7 in c:\\users\\fedev\\onedrive\\escritorio\\twting\\env\\lib\\site-packages (from matplotlib<4,>=3.2->ydata_profiling) (2.8.2)\n",
      "Requirement already satisfied: pytz>=2020.1 in c:\\users\\fedev\\onedrive\\escritorio\\twting\\env\\lib\\site-packages (from pandas!=1.4.0,<2.1,>1.1->ydata_profiling) (2023.3.post1)\n",
      "Requirement already satisfied: tzdata>=2022.1 in c:\\users\\fedev\\onedrive\\escritorio\\twting\\env\\lib\\site-packages (from pandas!=1.4.0,<2.1,>1.1->ydata_profiling) (2023.3)\n",
      "Requirement already satisfied: joblib>=0.14.1 in c:\\users\\fedev\\onedrive\\escritorio\\twting\\env\\lib\\site-packages (from phik<0.13,>=0.11.1->ydata_profiling) (1.3.2)\n",
      "Requirement already satisfied: typing-extensions>=4.2.0 in c:\\users\\fedev\\onedrive\\escritorio\\twting\\env\\lib\\site-packages (from pydantic<2,>=1.8.1->ydata_profiling) (4.8.0)\n",
      "Requirement already satisfied: charset-normalizer<4,>=2 in c:\\users\\fedev\\onedrive\\escritorio\\twting\\env\\lib\\site-packages (from requests<3,>=2.24.0->ydata_profiling) (3.2.0)\n",
      "Requirement already satisfied: idna<4,>=2.5 in c:\\users\\fedev\\onedrive\\escritorio\\twting\\env\\lib\\site-packages (from requests<3,>=2.24.0->ydata_profiling) (3.4)\n",
      "Requirement already satisfied: urllib3<3,>=1.21.1 in c:\\users\\fedev\\onedrive\\escritorio\\twting\\env\\lib\\site-packages (from requests<3,>=2.24.0->ydata_profiling) (2.0.4)\n",
      "Requirement already satisfied: certifi>=2017.4.17 in c:\\users\\fedev\\onedrive\\escritorio\\twting\\env\\lib\\site-packages (from requests<3,>=2.24.0->ydata_profiling) (2023.7.22)\n",
      "Collecting patsy>=0.5.2 (from statsmodels<1,>=0.13.2->ydata_profiling)\n",
      "  Using cached patsy-0.5.3-py2.py3-none-any.whl (233 kB)\n",
      "Requirement already satisfied: colorama in c:\\users\\fedev\\onedrive\\escritorio\\twting\\env\\lib\\site-packages (from tqdm<5,>=4.48.2->ydata_profiling) (0.4.6)\n",
      "Requirement already satisfied: six in c:\\users\\fedev\\onedrive\\escritorio\\twting\\env\\lib\\site-packages (from patsy>=0.5.2->statsmodels<1,>=0.13.2->ydata_profiling) (1.16.0)\n",
      "Using cached ydata_profiling-4.5.1-py2.py3-none-any.whl (357 kB)\n",
      "Using cached dacite-1.8.1-py3-none-any.whl (14 kB)\n",
      "Using cached multimethod-1.10-py3-none-any.whl (9.9 kB)\n",
      "Using cached pandas-2.0.3-cp311-cp311-win_amd64.whl (10.6 MB)\n",
      "Using cached wordcloud-1.9.2-cp311-cp311-win_amd64.whl (151 kB)\n",
      "Installing collected packages: PyWavelets, patsy, networkx, multimethod, dacite, pandas, imagehash, wordcloud, visions, statsmodels, phik, ydata_profiling\n",
      "  Attempting uninstall: pandas\n",
      "    Found existing installation: pandas 2.1.0\n",
      "    Uninstalling pandas-2.1.0:\n",
      "      Successfully uninstalled pandas-2.1.0\n"
     ]
    }
   ],
   "source": [
    "!pip3 install ydata_profiling"
   ]
  },
  {
   "cell_type": "code",
   "execution_count": 42,
   "metadata": {},
   "outputs": [],
   "source": [
    "from ydata_profiling import ProfileReport"
   ]
  },
  {
   "cell_type": "markdown",
   "metadata": {},
   "source": [
    "Los insights que me llamaron la atencion fueron: \n",
    "1. Las tarjetas de credito tienen una alta capacidad de fallar y de cometer fraudes, ya que deduciendo tambien el modelo, si tiene muchos intentos fallidos, es un posible fraude o una alerta. \n",
    "2. Vemos que hay mas casos de no fraude que si, pero tambien hay que deducir que hay muchos casos en los que se comete fraude y es difcil de prevenir, viendo el grafico sobre cantidad de fraudes, no me parece  exacto\n",
    "3. Tambien me llamo la atencion que: dependiendo la cantidad de pediciones a transacciones fallidas puede parecer anormal y generar una alerta.\n",
    "4. "
   ]
  },
  {
   "cell_type": "code",
   "execution_count": 34,
   "metadata": {},
   "outputs": [
    {
     "data": {
      "text/plain": [
       "'\"\\nComo tenemos pocas columnas / filas no es necesario tomar una muestra / sample del dataset completo.\\n\\n## 5) Volvemos al análisis de correlación: Gráficos 📊\\n\\n**Obtengan 5 insights que les llamo la atención del gráfico de correlación**\\n\\n## 6) Análisis de correlaciones no lineales basadas en teoría de la información\\n\\nPara MINE consideren:\\n\\n```\\n# 2do calculo de los estadísticos\\nmine.compute_score(data3[\\'transactionAmount\\'], data3[\\'transactionFailed\\'])\\n'"
      ]
     },
     "execution_count": 34,
     "metadata": {},
     "output_type": "execute_result"
    }
   ],
   "source": [
    "# CORRELACIÓN 🤯\n",
    "\n",
    "## 1) Samples\n",
    "\"\"\"\"\n",
    "Como tenemos pocas columnas / filas no es necesario tomar una muestra / sample del dataset completo.\n",
    "\n",
    "## 5) Volvemos al análisis de correlación: Gráficos 📊\n",
    "\n",
    "**Obtengan 5 insights que les llamo la atención del gráfico de correlación**\n",
    "\n",
    "## 6) Análisis de correlaciones no lineales basadas en teoría de la información\n",
    "\n",
    "Para MINE consideren:\n",
    "\n",
    "```\n",
    "# 2do calculo de los estadísticos\n",
    "mine.compute_score(data3['transactionAmount'], data3['transactionFailed'])\n",
    "\"\"\""
   ]
  },
  {
   "cell_type": "code",
   "execution_count": 35,
   "metadata": {},
   "outputs": [
    {
     "data": {
      "text/plain": [
       "'https://colab.research.google.com/drive/1C_ABloz7eP9Ri7r72iQFXFZAkEXcGWlb?usp=sharing'"
      ]
     },
     "execution_count": 35,
     "metadata": {},
     "output_type": "execute_result"
    }
   ],
   "source": [
    "##NO ME CARGO PINEMY ASIQUE ADJUNTO LINK DE COLAB\n",
    "'https://colab.research.google.com/drive/1C_ABloz7eP9Ri7r72iQFXFZAkEXcGWlb?usp=sharing'"
   ]
  },
  {
   "cell_type": "code",
   "execution_count": null,
   "metadata": {},
   "outputs": [],
   "source": []
  }
 ],
 "metadata": {
  "kernelspec": {
   "display_name": "env",
   "language": "python",
   "name": "python3"
  },
  "language_info": {
   "codemirror_mode": {
    "name": "ipython",
    "version": 3
   },
   "file_extension": ".py",
   "mimetype": "text/x-python",
   "name": "python",
   "nbconvert_exporter": "python",
   "pygments_lexer": "ipython3",
   "version": "3.11.5"
  },
  "orig_nbformat": 4
 },
 "nbformat": 4,
 "nbformat_minor": 2
}
